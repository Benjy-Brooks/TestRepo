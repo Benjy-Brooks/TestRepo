{
 "cells": [
  {
   "cell_type": "markdown",
   "id": "c3787352-7b92-4d28-a2dd-004c0988818a",
   "metadata": {},
   "source": [
    "## Right-Left Binary "
   ]
  },
  {
   "cell_type": "markdown",
   "id": "3baeefb4-4819-4388-8185-be0c0e95f9f8",
   "metadata": {},
   "source": [
    "This function computes the $n^{th}$ power of an element $g$ of a group $G$. The naive way is to do $n-1$ group multiplications. We express $n$ as \n",
    "\n",
    "$$n=\\sum_i \\varepsilon_i *2^i,$$ \n",
    "\n",
    "i.e., the base 2 expansion of $n$, where $\\varepsilon_i=0$ or $1$. Then \n",
    "\n",
    "$$g^n=\\prod_{\\varepsilon_i=1}(g^{2^i}).$$\n",
    "\n",
    "If we keep track of the auxiliary variable of the quanitites $g^{2^i}$, which we compute by successive squarings, we obtain the algorithm below, which squares when the remaining exponent is even, halving it after, and multiplies to the auxiliary value when the remaining exponent is odd. \n",
    "\n",
    "The algorithm is called right-left because it is a right to left scan of the binary digits of n. "
   ]
  },
  {
   "cell_type": "markdown",
   "id": "22b28abb-ec17-4151-8057-15442c0962b4",
   "metadata": {},
   "source": [
    "### Algorithm"
   ]
  },
  {
   "cell_type": "code",
   "execution_count": 45,
   "id": "076ae484-c744-4c59-921d-00526755b3ef",
   "metadata": {},
   "outputs": [],
   "source": [
    "import math \n",
    "\n",
    "def rl_binary(g, n):\n",
    "    # ensure n is an integer\n",
    "    if n % 1 != 0:\n",
    "        print(\"n must be an integer\")\n",
    "        return\n",
    "    # counter y, initialized to 1\n",
    "    y = 1\n",
    "    # if zero power, it is just 1\n",
    "    if n == 0:\n",
    "        return y\n",
    "        \n",
    "    elif n < 0:\n",
    "        N = -n\n",
    "        z = pow(g, -1)\n",
    "    else: \n",
    "        N = n\n",
    "        z = g\n",
    "    while N != 0:  \n",
    "        if N % 2 == 1:\n",
    "            y = z * y\n",
    "        N = math.floor(N/2)\n",
    "        z = z * z\n",
    "    return y\n",
    "    "
   ]
  },
  {
   "cell_type": "code",
   "execution_count": 46,
   "id": "ffc35943-fc4e-49e2-9a84-714f5f682b3c",
   "metadata": {},
   "outputs": [
    {
     "data": {
      "text/plain": [
       "305493636349960468205197939321361769978940274057232666389361390928129162652472045770185723510801522825687515269359046715531785342780428396973513311420091788963072442053377285222203558881953188370081650866793017948791366338993705251636497892270212003524508209121908744820211960149463721109340307985507678283651836204093399373959982767701148986816406250000000000000000000000000000000000000000000000000000000000000000000000000000000000000000000000000000000000000000000000000000000000000000000000000000000000000000000000000000000000000000000000000000000000000000000000000000000000000000000000000000000000000000000000000000000000000000000000000000000000000000000000000000000000000000000000000000000000000000000000000000000000000000000000000000000000000000000000000000000000000000000000000000000000000000000000000000000000000000000000000000000000000000000000000000000000000000000000000000000000000000000000000000000000000000000000000000000000000000000000000000000000000000000000000000000000000000000000000000000000000000000000000000000000000000000000000000000000000000000000000000000000000000000000000000000000000000000000000000000000000000000000000000000000000000000000000000000000000000000000000000000000000000000000000000000000000000000000000000000000000000000000000000000000000000000000000000000000000000000000000000000000000000000000000000000000000000"
      ]
     },
     "execution_count": 46,
     "metadata": {},
     "output_type": "execute_result"
    }
   ],
   "source": [
    "rlbinary(500, 500)\n"
   ]
  },
  {
   "cell_type": "code",
   "execution_count": 41,
   "id": "c025f2b7-6d42-4383-b659-e0a502844b0f",
   "metadata": {},
   "outputs": [],
   "source": [
    "def mult_group_inverse(G, g):\n",
    "    for h in G:\n",
    "        if g * h == 1:\n",
    "            return h"
   ]
  },
  {
   "cell_type": "code",
   "execution_count": 38,
   "id": "bbd6aafb-bb75-4898-8a7f-d6e1cef60801",
   "metadata": {},
   "outputs": [],
   "source": [
    "G = [1,2,3,4]\n",
    "g = 2\n",
    "# op = mult\n",
    "group_inverse([1,2,3,4,5], 2)\n"
   ]
  },
  {
   "cell_type": "code",
   "execution_count": null,
   "id": "d3748588-bff4-4410-8f5f-09dc127e8885",
   "metadata": {},
   "outputs": [],
   "source": []
  }
 ],
 "metadata": {
  "kernelspec": {
   "display_name": "Python 3 (ipykernel)",
   "language": "python",
   "name": "python3"
  },
  "language_info": {
   "codemirror_mode": {
    "name": "ipython",
    "version": 3
   },
   "file_extension": ".py",
   "mimetype": "text/x-python",
   "name": "python",
   "nbconvert_exporter": "python",
   "pygments_lexer": "ipython3",
   "version": "3.12.7"
  }
 },
 "nbformat": 4,
 "nbformat_minor": 5
}
