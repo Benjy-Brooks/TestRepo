{
 "cells": [
  {
   "cell_type": "markdown",
   "id": "71ec8a46-fd4b-4f85-86f6-6f866235d8b5",
   "metadata": {},
   "source": [
    "# Data Science Tools and Ecosystem"
   ]
  },
  {
   "cell_type": "markdown",
   "id": "651728ee-b6f9-46d9-ad0c-6d38ad1c70ca",
   "metadata": {},
   "source": [
    "In this notebook, Data Science Tools and Ecosystem are summarized. "
   ]
  },
  {
   "cell_type": "markdown",
   "id": "5219cd39-3fe9-4fa0-8bde-c684f1c6200c",
   "metadata": {},
   "source": [
    "**Objectives**\n",
    "- List popular languages for data science.\n",
    "- List commonly used libraries used by Data Scientists.\n",
    "- List commonly used Data Science tools.\n",
    "- Compute simple arithmetic expressions."
   ]
  },
  {
   "cell_type": "markdown",
   "id": "9b51590f-af97-445a-929d-a625e2c68fdb",
   "metadata": {},
   "source": [
    "Some of the popular languages that Data Scientist use are:\n",
    "1. Python\n",
    "2. R\n",
    "3. SQL\n"
   ]
  },
  {
   "cell_type": "markdown",
   "id": "05e3d84e-32fe-4f01-8088-bcdcc4e5493e",
   "metadata": {},
   "source": [
    "Some of the commonly used libraries used by Data Scientists include:\n",
    "1. Pytorch\n",
    "2. TensorFlow\n",
    "3. Matplotlib"
   ]
  },
  {
   "cell_type": "markdown",
   "id": "6b54f5e8-869c-4ff2-9638-64776c54fe2a",
   "metadata": {},
   "source": [
    "|Data Science Tools|\n",
    "|--|\n",
    "|Jupyter Notebook|\n",
    "|Tableau|\n",
    "|Apache Spark|"
   ]
  },
  {
   "cell_type": "markdown",
   "id": "18043f6e-4c77-4e9b-8a93-fc2dbb6b4622",
   "metadata": {},
   "source": [
    "### Below are a few examples of evaluating arithmetic expressions in Python"
   ]
  },
  {
   "cell_type": "code",
   "execution_count": 2,
   "id": "a1694a25-f050-43ae-b754-1c405dc26f2f",
   "metadata": {},
   "outputs": [
    {
     "data": {
      "text/plain": [
       "17"
      ]
     },
     "execution_count": 2,
     "metadata": {},
     "output_type": "execute_result"
    }
   ],
   "source": [
    "#This is a simple arithmetic expression to multiply then add integers.\n",
    "(3*4)+5"
   ]
  },
  {
   "cell_type": "code",
   "execution_count": 3,
   "id": "2824add9-0037-417b-9b8a-f7e395275cc3",
   "metadata": {},
   "outputs": [
    {
     "data": {
      "text/plain": [
       "3.3333333333333335"
      ]
     },
     "execution_count": 3,
     "metadata": {},
     "output_type": "execute_result"
    }
   ],
   "source": [
    "#This will convert 200 minutes to hours by dividing by 60\n",
    "200/60"
   ]
  },
  {
   "cell_type": "markdown",
   "id": "76b2f38e-fa97-4256-b8d1-a7f59df49087",
   "metadata": {},
   "source": [
    "## Author\n",
    "Benjamin Brooks"
   ]
  }
 ],
 "metadata": {
  "kernelspec": {
   "display_name": "Python3 (myenv)",
   "language": "python",
   "name": "myenv"
  },
  "language_info": {
   "codemirror_mode": {
    "name": "ipython",
    "version": 3
   },
   "file_extension": ".py",
   "mimetype": "text/x-python",
   "name": "python",
   "nbconvert_exporter": "python",
   "pygments_lexer": "ipython3",
   "version": "3.13.0"
  }
 },
 "nbformat": 4,
 "nbformat_minor": 5
}
